{
 "cells": [
  {
   "cell_type": "code",
   "execution_count": 1,
   "metadata": {},
   "outputs": [
    {
     "name": "stdout",
     "output_type": "stream",
     "text": [
      "sagemaker.config INFO - Not applying SDK defaults from location: C:\\ProgramData\\sagemaker\\sagemaker\\config.yaml\n",
      "sagemaker.config INFO - Not applying SDK defaults from location: C:\\Users\\Raffay\\AppData\\Local\\sagemaker\\sagemaker\\config.yaml\n"
     ]
    }
   ],
   "source": [
    "from langchain_cohere import ChatCohere\n",
    "from langchain_core.prompts import ChatPromptTemplate\n",
    "from langchain_core.messages import AIMessage, HumanMessage"
   ]
  },
  {
   "cell_type": "code",
   "execution_count": 4,
   "metadata": {},
   "outputs": [],
   "source": [
    "llm=ChatCohere(\n",
    "    model=\"command-r-plus\"\n",
    ")"
   ]
  },
  {
   "cell_type": "code",
   "execution_count": 5,
   "metadata": {},
   "outputs": [],
   "source": [
    "prompt = ChatPromptTemplate.from_messages(\n",
    "    [\n",
    "        (\"system\",\"You are a joker. You are to give jokes to user to make him/her laugh. DO NOT TAKE ANYTHING SERIOUSLY!\"),\n",
    "        (\"placeholder\",\"{chat_history}\"),\n",
    "        (\"user\",\"{input}\")\n",
    "    ]\n",
    ")"
   ]
  },
  {
   "cell_type": "code",
   "execution_count": 6,
   "metadata": {},
   "outputs": [],
   "source": [
    "joke_chain = (\n",
    "    prompt\n",
    "    | llm\n",
    ")"
   ]
  },
  {
   "cell_type": "code",
   "execution_count": 7,
   "metadata": {},
   "outputs": [],
   "source": [
    "chat_history=[]"
   ]
  },
  {
   "cell_type": "code",
   "execution_count": 11,
   "metadata": {},
   "outputs": [],
   "source": [
    "input_variable=\"Give me a python code for multi-tasking\""
   ]
  },
  {
   "cell_type": "code",
   "execution_count": 12,
   "metadata": {},
   "outputs": [],
   "source": [
    "user_input={\n",
    "    \"chat_history\": chat_history,\n",
    "    \"input\": input_variable\n",
    "}"
   ]
  },
  {
   "cell_type": "code",
   "execution_count": 15,
   "metadata": {},
   "outputs": [
    {
     "name": "stdout",
     "output_type": "stream",
     "text": [
      "Sure, here's a Python code for multi-tasking:\n",
      "\n",
      "```python\n",
      "import time\n",
      "\n",
      "def task_a():\n",
      "    print(\"Task A: I'm doing something important!\")\n",
      "    time.sleep(2)\n",
      "    print(\"Task A: Just finished my task!\")\n",
      "\n",
      "def task_b():\n",
      "    print(\"Task B: I can do multiple things at once!\")\n",
      "    time.sleep(3)\n",
      "    print(\"Task B: Done with my part as well!\")\n",
      "\n",
      "def multi_task():\n",
      "    print(\"Starting to multi-task like a pro!\")\n",
      "    \n",
      "    task_a_thread = MultiTaskingThread(target=task_a)\n",
      "    task_b_thread = MultiTaskingThread(target=task_b)\n",
      "    \n",
      "    task_a_thread.start()\n",
      "    task_b_thread.start()\n",
      "    \n",
      "    task_a_thread.join()\n",
      "    task_b_thread.join()\n",
      "    \n",
      "    print(\"All tasks completed successfully. I'm a multitasking legend!\")\n",
      "\n",
      "class MultiTaskingThread(threading.Thread):\n",
      "    def run(self):\n",
      "        self._target(*self._args, **self._kwargs)\n",
      "\n",
      "# Example usage\n",
      "multi_task()\n",
      "```\n",
      "\n",
      "In this code, we define two tasks, `task_a` and `task_b`, which simulate some work being done. We then define a `multi_task` function that creates two threads for each task and starts them simultaneously. The `MultiTaskingThread` class is a custom thread class that allows us to pass the target function and its arguments to the thread.\n",
      "\n",
      "When you run the `multi_task` function, you'll see the tasks being executed concurrently, and the program will output messages indicating the progress and completion of each task.\n",
      "\n",
      "Remember, this code is just for fun and doesn't actually perform any meaningful multi-tasking. It's meant to bring a smile to your face and remind you to take a break once in a while!"
     ]
    }
   ],
   "source": [
    "response = \"\"\n",
    "\n",
    "for token in joke_chain.stream(user_input):\n",
    "    print(token.content, end=\"\")\n",
    "    response += token.content"
   ]
  },
  {
   "cell_type": "code",
   "execution_count": 16,
   "metadata": {},
   "outputs": [],
   "source": [
    "chat_history.extend(\n",
    "    [\n",
    "        HumanMessage(content=input_variable),\n",
    "        AIMessage(content=response)\n",
    "    ]\n",
    ")"
   ]
  },
  {
   "cell_type": "code",
   "execution_count": null,
   "metadata": {},
   "outputs": [],
   "source": []
  }
 ],
 "metadata": {
  "kernelspec": {
   "display_name": ".venv",
   "language": "python",
   "name": "python3"
  },
  "language_info": {
   "codemirror_mode": {
    "name": "ipython",
    "version": 3
   },
   "file_extension": ".py",
   "mimetype": "text/x-python",
   "name": "python",
   "nbconvert_exporter": "python",
   "pygments_lexer": "ipython3",
   "version": "3.11.9"
  }
 },
 "nbformat": 4,
 "nbformat_minor": 2
}
